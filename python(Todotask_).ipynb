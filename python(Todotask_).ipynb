{
  "nbformat": 4,
  "nbformat_minor": 0,
  "metadata": {
    "colab": {
      "provenance": [],
      "authorship_tag": "ABX9TyPxtvzzwZmpbAuaF3LNUIyR",
      "include_colab_link": true
    },
    "kernelspec": {
      "name": "python3",
      "display_name": "Python 3"
    },
    "language_info": {
      "name": "python"
    }
  },
  "cells": [
    {
      "cell_type": "markdown",
      "metadata": {
        "id": "view-in-github",
        "colab_type": "text"
      },
      "source": [
        "<a href=\"https://colab.research.google.com/github/manasaiyandra/CODSOFT/blob/main/python(Todotask_).ipynb\" target=\"_parent\"><img src=\"https://colab.research.google.com/assets/colab-badge.svg\" alt=\"Open In Colab\"/></a>"
      ]
    },
    {
      "cell_type": "code",
      "execution_count": null,
      "metadata": {
        "colab": {
          "base_uri": "https://localhost:8080/"
        },
        "id": "9eeOCjfln4d7",
        "outputId": "f54d29f0-3878-4bff-88e8-624e5595e17c"
      },
      "outputs": [
        {
          "output_type": "stream",
          "name": "stdout",
          "text": [
            "\n",
            "To-Do List Menu:\n",
            "1. View tasks\n",
            "2. Add a task\n",
            "3. Update a task\n",
            "4. Delete a task\n",
            "5. Exit\n",
            "\n",
            "Choose an option (1-5): 5\n",
            "Exiting To-Do List application. Goodbye!\n"
          ]
        }
      ],
      "source": [
        "# To-Do List Application\n",
        "def display_menu():\n",
        "    print(\"\\nTo-Do List Menu:\")\n",
        "    print(\"1. View tasks\")\n",
        "    print(\"2. Add a task\")\n",
        "    print(\"3. Update a task\")\n",
        "    print(\"4. Delete a task\")\n",
        "    print(\"5. Exit\")\n",
        "\n",
        "def view_tasks(tasks):\n",
        "    print(\"\\nYour To-Do List:\")\n",
        "    for i, task in enumerate(tasks, start=1):\n",
        "        print(f\"{i}. {task}\")\n",
        "\n",
        "def add_task(tasks):\n",
        "    task = input(\"\\nEnter a new task: \")\n",
        "    tasks.append(task)\n",
        "    print(f\"Task '{task}' added.\")\n",
        "\n",
        "def update_task(tasks):\n",
        "    view_tasks(tasks)\n",
        "    task_num = int(input(\"\\nEnter the number of the task to update: \"))\n",
        "    if 1 <= task_num <= len(tasks):\n",
        "        new_task = input(\"Enter the updated task: \")\n",
        "        tasks[task_num - 1] = new_task\n",
        "        print(\"Task updated successfully.\")\n",
        "    else:\n",
        "        print(\"Invalid task number.\")\n",
        "\n",
        "def delete_task(tasks):\n",
        "    view_tasks(tasks)\n",
        "    task_num = int(input(\"\\nEnter the number of the task to delete: \"))\n",
        "    if 1 <= task_num <= len(tasks):\n",
        "        deleted_task = tasks.pop(task_num - 1)\n",
        "        print(f\"Task '{deleted_task}' deleted.\")\n",
        "    else:\n",
        "        print(\"Invalid task number.\")\n",
        "\n",
        "def main():\n",
        "    tasks = []\n",
        "    while True:\n",
        "        display_menu()\n",
        "        choice = input(\"\\nChoose an option (1-5): \")\n",
        "\n",
        "        if choice == \"1\":\n",
        "            view_tasks(tasks)\n",
        "        elif choice == \"2\":\n",
        "            add_task(tasks)\n",
        "        elif choice == \"3\":\n",
        "            update_task(tasks)\n",
        "        elif choice == \"4\":\n",
        "            delete_task(tasks)\n",
        "        elif choice == \"5\":\n",
        "            print(\"Exiting To-Do List application. Goodbye!\")\n",
        "            break\n",
        "        else:\n",
        "            print(\"Invalid choice. Please try again.\")\n",
        "\n",
        "if __name__ == \"__main__\":\n",
        "    main()"
      ]
    }
  ]
}